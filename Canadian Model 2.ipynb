{
  "nbformat": 4,
  "nbformat_minor": 0,
  "metadata": {
    "colab": {
      "provenance": []
    },
    "kernelspec": {
      "name": "python3",
      "display_name": "Python 3"
    },
    "language_info": {
      "name": "python"
    }
  },
  "cells": [
    {
      "cell_type": "code",
      "source": [],
      "metadata": {
        "id": "pm6C6LTnY40r"
      },
      "execution_count": null,
      "outputs": []
    },
    {
      "cell_type": "markdown",
      "source": [
        "**OBJECTIVES:**\n",
        "\n",
        "Our aim is to predict the reason for leaving a job (WHYLEFTN) using a Random Forest Classifier model."
      ],
      "metadata": {
        "id": "cDRbxq2_EPmn"
      }
    },
    {
      "cell_type": "code",
      "source": [
        "import seaborn as sns\n",
        "import matplotlib.pyplot as plt\n",
        "import pandas as pd\n",
        "from sklearn.model_selection import train_test_split\n",
        "from sklearn.preprocessing import LabelEncoder, StandardScaler\n",
        "from sklearn.impute import SimpleImputer\n",
        "from sklearn.ensemble import RandomForestClassifier\n",
        "from sklearn.metrics import accuracy_score, classification_report\n",
        "\n",
        "# Load the dataset\n",
        "df = pd.read_csv('/content/sasdata.csv')\n",
        "\n",
        "\n",
        "\n",
        "\n",
        "\n",
        "\n"
      ],
      "metadata": {
        "id": "ZyTJkOwmClSz"
      },
      "execution_count": 1,
      "outputs": []
    },
    {
      "cell_type": "code",
      "source": [
        "# Define the target variable\n",
        "target = 'WHYLEFTN'\n",
        "\n",
        "# Select features (excluding the target and irrelevant columns)\n",
        "features = [col for col in df.columns if col != target and col not in ['Unnamed: 0', 'REC_NUM', 'SURVYEAR', 'SURVMNTH']]\n",
        "\n",
        "# **Instead of dropping rows with any missing values, impute them first.**\n",
        "# Create an imputer object with 'most_frequent' strategy for categorical features\n",
        "imputer = SimpleImputer(strategy='most_frequent')\n",
        "# Impute missing values in the selected features and target\n",
        "df_imputed = pd.DataFrame(imputer.fit_transform(df[[target] + features]), columns=[target] + features)\n",
        "\n",
        "# **Now proceed with encoding and splitting using the imputed DataFrame**\n",
        "# Encode categorical features\n",
        "encoder = LabelEncoder()\n",
        "for feature in features:\n",
        "    if df_imputed[feature].dtype == 'object':  # Only encode object (string) columns\n",
        "        df_imputed[feature] = encoder.fit_transform(df_imputed[feature])\n",
        "\n",
        "# Split data into training and testing sets\n",
        "X = df_imputed[features]\n",
        "y = df_imputed[target]\n",
        "X_train, X_test, y_train, y_test = train_test_split(X, y, test_size=0.2, random_state=42)\n",
        "\n",
        "# Scale numerical features (if needed)\n",
        "# scaler = StandardScaler()\n",
        "# X_train = scaler.fit_transform(X_train)\n",
        "# X_test = scaler.transform(X_test)\n",
        "\n",
        "# Train the RandomForestClassifier model\n",
        "model = RandomForestClassifier(random_state=42)\n",
        "model.fit(X_train, y_train)\n",
        "\n",
        "# Make predictions\n",
        "y_pred = model.predict(X_test)\n",
        "\n",
        "# Evaluate the model\n",
        "accuracy = accuracy_score(y_test, y_pred)\n",
        "report = classification_report(y_test, y_pred)\n",
        "\n",
        "print(f\"Accuracy: {accuracy}\")\n",
        "print(report)"
      ],
      "metadata": {
        "colab": {
          "base_uri": "https://localhost:8080/"
        },
        "id": "7YBsq-vnHMyU",
        "outputId": "a9770632-a5ec-4f68-9ffc-7475fa4ae9be"
      },
      "execution_count": 2,
      "outputs": [
        {
          "output_type": "stream",
          "name": "stdout",
          "text": [
            "Accuracy: 0.9832132184918263\n",
            "              precision    recall  f1-score   support\n",
            "\n",
            "         0.0       0.83      0.65      0.73        54\n",
            "         1.0       0.77      0.94      0.85        69\n",
            "         2.0       0.55      0.55      0.55        11\n",
            "         3.0       0.80      0.57      0.67        14\n",
            "         4.0       0.90      0.46      0.61        41\n",
            "         5.0       0.95      1.00      0.98       313\n",
            "         6.0       0.73      0.76      0.74        70\n",
            "         7.0       1.00      1.00      1.00       199\n",
            "         8.0       0.83      0.50      0.62        10\n",
            "         9.0       0.99      1.00      1.00     21433\n",
            "        10.0       0.65      0.65      0.65       233\n",
            "        11.0       0.60      0.12      0.19        26\n",
            "        12.0       0.64      0.57      0.60       203\n",
            "        13.0       0.55      0.21      0.31        80\n",
            "\n",
            "    accuracy                           0.98     22756\n",
            "   macro avg       0.77      0.64      0.68     22756\n",
            "weighted avg       0.98      0.98      0.98     22756\n",
            "\n"
          ]
        }
      ]
    },
    {
      "cell_type": "markdown",
      "source": [
        "**CONCLUSION**\n",
        "\n",
        "\n",
        "For the Government:\n",
        "\n",
        "Identify key drivers of job loss and market trends.\n",
        "Target resources for job seekers and skills development.\n",
        "Evaluate and adjust labor market policies.\n",
        "\n",
        "\n",
        "For Citizens:\n",
        "\n",
        "Personalized career guidance and early intervention for job seekers.\n",
        "Improved job satisfaction and working conditions.\n",
        "\n",
        "\n",
        "Better economic outlook and reduced unemployment.\n",
        "Ultimately, the model can help the Canadian government create a more dynamic and responsive labor market that benefits both individuals and the economy as a whole"
      ],
      "metadata": {
        "id": "6nmvwMrXEc0C"
      }
    },
    {
      "cell_type": "code",
      "source": [],
      "metadata": {
        "id": "6fKhjGGaClP7"
      },
      "execution_count": null,
      "outputs": []
    },
    {
      "cell_type": "code",
      "source": [],
      "metadata": {
        "id": "fIRohmpEClMx"
      },
      "execution_count": null,
      "outputs": []
    },
    {
      "cell_type": "code",
      "source": [],
      "metadata": {
        "id": "gts0CIr99M8T"
      },
      "execution_count": null,
      "outputs": []
    },
    {
      "cell_type": "code",
      "source": [],
      "metadata": {
        "id": "V2NmuV15GBjf"
      },
      "execution_count": null,
      "outputs": []
    },
    {
      "cell_type": "code",
      "source": [],
      "metadata": {
        "id": "UD2Swd2pGQKr"
      },
      "execution_count": null,
      "outputs": []
    }
  ]
}